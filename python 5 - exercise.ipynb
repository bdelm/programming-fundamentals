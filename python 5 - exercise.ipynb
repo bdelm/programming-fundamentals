{
 "cells": [
  {
   "cell_type": "markdown",
   "metadata": {},
   "source": [
    "# W8 - Python files and modules"
   ]
  },
  {
   "cell_type": "markdown",
   "metadata": {},
   "source": [
    "# 1. Write function to read first n lines of a file"
   ]
  },
  {
   "cell_type": "code",
   "execution_count": 2,
   "metadata": {},
   "outputs": [],
   "source": [
    "def read_lines(file,n):\n",
    "    with open(file,'r',encoding='utf-8') as f:\n",
    "        for i in list(range(n)):\n",
    "            print(f.readline())"
   ]
  },
  {
   "cell_type": "markdown",
   "metadata": {},
   "source": [
    "# 2. Create script that will count vowels in string\n",
    "Example\n",
    "```shell\n",
    "$ python find_vowels.py 'hello world'\n",
    "hello world contains 3 vowels\n",
    "```"
   ]
  },
  {
   "cell_type": "code",
   "execution_count": null,
   "metadata": {},
   "outputs": [],
   "source": []
  },
  {
   "cell_type": "markdown",
   "metadata": {},
   "source": [
    "# 3. Write function to count number of lines in a file\n",
    "Example\n",
    "```python\n",
    ">>>count_lines('myfile.txt')\n",
    "File has 12 lines\n",
    "```"
   ]
  },
  {
   "cell_type": "code",
   "execution_count": 3,
   "metadata": {},
   "outputs": [],
   "source": [
    "def count_lines(file):\n",
    "    with open(file,'r',encoding='utf-8') as f:\n",
    "        return len(f.readlines())"
   ]
  },
  {
   "cell_type": "markdown",
   "metadata": {},
   "source": [
    "# 4. Write function to count occurrence of given word in file\n",
    "Example\n",
    "```python\n",
    ">>>count_occurrence('myfile.txt', 'apple')\n",
    "Searched term apple appeared 10 times\n",
    "```"
   ]
  },
  {
   "cell_type": "code",
   "execution_count": 4,
   "metadata": {},
   "outputs": [],
   "source": [
    "def occurence(word,file):\n",
    "    with open(file,'r',encoding='utf-8') as f:\n",
    "        file_text = f.read()\n",
    "        file_text_split_list = file_text.split(word)\n",
    "        word_occurences = len(file_text_split_list) - 1\n",
    "        print(word_occurences)"
   ]
  },
  {
   "cell_type": "markdown",
   "metadata": {},
   "source": [
    "# 5. Write function to copy the contents of a file to another file\n",
    "\n",
    "```python\n",
    ">>>copy_file('myfile.txt', 'myfile2.txt')\n",
    "```"
   ]
  },
  {
   "cell_type": "code",
   "execution_count": 5,
   "metadata": {},
   "outputs": [],
   "source": [
    "def copy(file_1,file_2):\n",
    "    with open(file_1,'r',encoding='utf-8') as f1:\n",
    "        file_text = f1.read()\n",
    "    with open(file_2,'w',encoding='utf-8') as f2:\n",
    "        f2.write(file_text)"
   ]
  },
  {
   "cell_type": "markdown",
   "metadata": {},
   "source": [
    "# 6. Write function to write nested list to file, each list on separate line\n",
    "Example data `my_list = [['a', 'b', 'c'], [1,2,3]]`"
   ]
  },
  {
   "cell_type": "code",
   "execution_count": 6,
   "metadata": {},
   "outputs": [],
   "source": [
    "my_list = [['a', 'b', 'c'], [1,2,3]]\n",
    "\n",
    "def write_to_file(file,list):\n",
    "    with open(file,'w',encoding='utf-8') as f:\n",
    "        for nested_list in list:\n",
    "            f.write(str(nested_list) + '\\n')"
   ]
  },
  {
   "cell_type": "markdown",
   "metadata": {},
   "source": [
    "# 7. Write function to read  random line from a file"
   ]
  },
  {
   "cell_type": "code",
   "execution_count": 7,
   "metadata": {},
   "outputs": [],
   "source": [
    "import random\n",
    "def read_random_line(file):\n",
    "    with open(file,'r',encoding='utf-8') as f:\n",
    "        list_of_lines = f.read().splitlines()\n",
    "        count_lines = len(list_of_lines)\n",
    "        random_line_nbr = random.randint(0,count_lines-1)\n",
    "        random_line = list_of_lines[random_line_nbr]\n",
    "        print(random_line)"
   ]
  },
  {
   "cell_type": "markdown",
   "metadata": {},
   "source": [
    "# 8. Write function to read nth, n-1 and n+1 lines of file\n",
    "Example\n",
    "```python\n",
    ">>>read_specific_lines('myfile.txt', 10)\n",
    "```\n",
    "```\n",
    "Errors should never pass silently.\n",
    "Unless explicitly silenced.\n",
    "In the face of ambiguity, refuse the temptation to guess.\n",
    "```"
   ]
  },
  {
   "cell_type": "code",
   "execution_count": 8,
   "metadata": {},
   "outputs": [],
   "source": [
    "def read_lines(file,n):\n",
    "    with open(file,'r',encoding='utf-8') as f:\n",
    "        list_of_lines = f.read().splitlines()\n",
    "        if len(list_of_lines) < (n+1):\n",
    "            raise Exception('Not enough lines in the specified file')\n",
    "        print(list_of_lines[n-2])\n",
    "        print(list_of_lines[n-1])\n",
    "        print(list_of_lines[n])"
   ]
  },
  {
   "cell_type": "markdown",
   "metadata": {},
   "source": [
    "# 9. Write function to read file and find the longest word\n",
    "Example\n",
    "```python\n",
    ">>>find_longest_word('myfile.txt')\n",
    "supercalifragilisticexpialidocious\n",
    "```"
   ]
  },
  {
   "cell_type": "code",
   "execution_count": 9,
   "metadata": {},
   "outputs": [],
   "source": [
    "def find_longest_word(file):\n",
    "    with open(file,'r',encoding='utf-8') as f:\n",
    "        list_of_words = f.read().split()\n",
    "        print(list_of_words)\n",
    "        longest_word = list_of_words[0]\n",
    "        longest_word_length = len(longest_word)\n",
    "        for word in list_of_words:\n",
    "            if len(word) > longest_word_length:\n",
    "                longest_word = word\n",
    "                longest_word_length = len(word)\n",
    "        return longest_word"
   ]
  },
  {
   "cell_type": "markdown",
   "metadata": {},
   "source": [
    "# 10. Write function to concatenate 2 files together and store them as new file\n",
    "```\n",
    ">>>concatenate_files('myfile1.txt', 'myfile2.txt', 'myfile_new.txt')\n",
    "```"
   ]
  },
  {
   "cell_type": "code",
   "execution_count": 10,
   "metadata": {},
   "outputs": [],
   "source": [
    "def concatenate_files(file_1, file_2, file_3):\n",
    "    with open(file_1, 'r', encoding='utf-8') as f1:\n",
    "        with open(file_2, 'r', encoding='utf-8') as f2:\n",
    "            with open(file_3, 'w', encoding='utf-8') as f3:\n",
    "                f3.write(f1.read() + f2.read())"
   ]
  },
  {
   "cell_type": "markdown",
   "metadata": {},
   "source": [
    "# BONUS: Write function to read file and print only words containing letters 'p', 'y', 't', 'o' or 'n' and make these letters uppercase\n",
    "Example\n",
    "```python\n",
    ">>>print_selected_words('myfile.txt')\n",
    "lOve\n",
    "simPliciTY\n",
    "PaTieNce\n",
    "```"
   ]
  },
  {
   "cell_type": "code",
   "execution_count": 11,
   "metadata": {},
   "outputs": [],
   "source": [
    "def print_selected_words(file):\n",
    "    set_letters = {'p','y','t','o','n'}\n",
    "    with open(file,'r',encoding='utf-8') as f:\n",
    "        list_of_words = f.read().split()\n",
    "        for word in list_of_words:\n",
    "            if set_letters.intersection(word) != set():\n",
    "                new_word_list = []\n",
    "                for char in word:\n",
    "                    if char in set_letters:\n",
    "                        new_word_list.append(char.upper())\n",
    "                    else:\n",
    "                        new_word_list.append(char)\n",
    "                new_word = ''.join(new_word_list)\n",
    "                print(new_word)"
   ]
  },
  {
   "cell_type": "code",
   "execution_count": null,
   "metadata": {},
   "outputs": [],
   "source": []
  }
 ],
 "metadata": {
  "kernelspec": {
   "display_name": "Python 3",
   "language": "python",
   "name": "python3"
  },
  "language_info": {
   "codemirror_mode": {
    "name": "ipython",
    "version": 3
   },
   "file_extension": ".py",
   "mimetype": "text/x-python",
   "name": "python",
   "nbconvert_exporter": "python",
   "pygments_lexer": "ipython3",
   "version": "3.7.4"
  }
 },
 "nbformat": 4,
 "nbformat_minor": 2
}
