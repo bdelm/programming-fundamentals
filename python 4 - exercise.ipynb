{
 "cells": [
  {
   "cell_type": "markdown",
   "metadata": {},
   "source": [
    "# W7 - Python errors and exceptions\n",
    "\n",
    "\n",
    "## **Try first to correct code without running it!**"
   ]
  },
  {
   "cell_type": "markdown",
   "metadata": {},
   "source": [
    "# 1. Correct code\n",
    "\n",
    "```python\n",
    "\n",
    "def print_message(day):\n",
    "    messages = {\n",
    "        \"monday\": \"Hello, world!\",\n",
    "        \"tuesday\": \"Today is tuesday!\",\n",
    "        \"wednesday\": \"It is the middle of the week.\",\n",
    "        \"thursday\": \"Today is Donnerstag in German!\",\n",
    "        \"friday\": \"Last day of the week!\",\n",
    "        \"saturday\": \"Hooray for the weekend!\",\n",
    "        \"sunday\": \"Aw, the weekend is almost over.\"\n",
    "    }\n",
    "    print(messages[day])\n",
    "\n",
    "def print_friday_message():\n",
    "    print_message('Friday')\n",
    "\n",
    "print_friday_message()\n",
    "```"
   ]
  },
  {
   "cell_type": "markdown",
   "metadata": {},
   "source": [
    "# 2. Correct code\n",
    "```python\n",
    "friends_numbers = {}\n",
    "friends['School']['Emily'] = 505505505\n",
    "```"
   ]
  },
  {
   "cell_type": "code",
   "execution_count": 1,
   "metadata": {},
   "outputs": [
    {
     "name": "stdout",
     "output_type": "stream",
     "text": [
      "Last day of the week!\n"
     ]
    }
   ],
   "source": [
    "def print_message(day):\n",
    "    messages = {\n",
    "        \"monday\": \"Hello, world!\",\n",
    "        \"tuesday\": \"Today is tuesday!\",\n",
    "        \"wednesday\": \"It is the middle of the week.\",\n",
    "        \"thursday\": \"Today is Donnerstag in German!\",\n",
    "        \"friday\": \"Last day of the week!\",\n",
    "        \"saturday\": \"Hooray for the weekend!\",\n",
    "        \"sunday\": \"Aw, the weekend is almost over.\"\n",
    "    }\n",
    "    print(messages[day])\n",
    "\n",
    "def print_friday_message():\n",
    "    print_message('friday')\n",
    "\n",
    "print_friday_message()\n",
    "\n",
    "friends_numbers = {'School':{'Emily':''}}\n",
    "friends_numbers['School']['Emily'] = 505505505"
   ]
  },
  {
   "cell_type": "markdown",
   "metadata": {},
   "source": [
    "# 3. Correct code\n",
    "```python\n",
    "letters = ['a', 'b', 'c', 'd']\n",
    "index = 1\n",
    "for letter in letters:\n",
    "    print(letters[index])\n",
    "    index += 1\n",
    "```"
   ]
  },
  {
   "cell_type": "code",
   "execution_count": 2,
   "metadata": {},
   "outputs": [
    {
     "name": "stdout",
     "output_type": "stream",
     "text": [
      "a\n",
      "b\n",
      "c\n",
      "d\n"
     ]
    }
   ],
   "source": [
    "letters = ['a', 'b', 'c', 'd']\n",
    "index = 0\n",
    "for letter in letters:\n",
    "    print(letters[index])\n",
    "    index += 1"
   ]
  },
  {
   "cell_type": "markdown",
   "metadata": {},
   "source": [
    "# 4. Debug code\n",
    "```python\n",
    "def anti_vowel(c):\n",
    "    newstr = \"\"\n",
    "    vowels = ('a', 'e', 'i', 'o', 'u')\n",
    "    for x in c.lower():\n",
    "        if x in vowels:\n",
    "            newstr = c.replace(x, \"\")        \n",
    "    return newstr\n",
    "\n",
    ">>> print(anti_vowel(\"Hey look words\"))\n",
    "Hey lk wrds\n",
    "```\n",
    "Debug code so you get following result\n",
    "```python\n",
    ">>> print(anti_vowel(\"Hey look words\"))\n",
    "Hy lk wrds\n",
    "```"
   ]
  },
  {
   "cell_type": "code",
   "execution_count": 3,
   "metadata": {},
   "outputs": [
    {
     "name": "stdout",
     "output_type": "stream",
     "text": [
      "Hy lk wrds\n"
     ]
    }
   ],
   "source": [
    "def anti_vowel(c):\n",
    "    newstr = c\n",
    "    vowels = ('a', 'e', 'i', 'o', 'u')\n",
    "    for x in c.lower():\n",
    "        if x in vowels:\n",
    "            newstr = newstr.replace(x, \"\")        \n",
    "    return newstr\n",
    "\n",
    "print(anti_vowel(\"Hey look words\"))"
   ]
  },
  {
   "cell_type": "markdown",
   "metadata": {},
   "source": [
    "# 5. Guess the number\n",
    "\n",
    "1. Ask user to guess number between 0 and 9\n",
    "2. User has 3 attempts\n",
    "3. If user doesn't guess the number, raise error\n",
    "\n",
    "*Hint*: in order to play this game multiple times, use `random.randint(0,9)` `random` module\n"
   ]
  },
  {
   "cell_type": "code",
   "execution_count": 6,
   "metadata": {},
   "outputs": [
    {
     "name": "stdout",
     "output_type": "stream",
     "text": [
      "Guess nbr between 0 and 9: 1\n",
      "Guess nbr between 0 and 9: 2\n",
      "Guess nbr between 0 and 9: 3\n",
      "Congratulations, you got the correct number!\n"
     ]
    }
   ],
   "source": [
    "import random\n",
    "random_number = random.randint(0,9)\n",
    "for i in list(range(3)):\n",
    "    user_number = int(input('Guess nbr between 0 and 9: '))\n",
    "    if user_number == random_number:\n",
    "        print('Congratulations, you got the correct number!')\n",
    "    elif i == 2:\n",
    "        raise Exception(\"That's it, no more tries, you LOSE, You Loser!\")"
   ]
  },
  {
   "cell_type": "markdown",
   "metadata": {},
   "source": [
    "# 6. Correct code\n",
    "\n",
    "```python\n",
    "authrs = {\n",
    "    \"Charles Dickens\": \"1870\",\n",
    "    \"William Thackeray\": \"1863\",\n",
    "    \"Anthony Trollope\": \"1882\",\n",
    "    \"Gerard Manley Hopkins\": \"1889\"\n",
    "\n",
    "for author date in authors.items{}:\n",
    "    print \"{} died in {}'.format(authors, Date)\n",
    "}\n",
    "```"
   ]
  },
  {
   "cell_type": "code",
   "execution_count": 7,
   "metadata": {},
   "outputs": [
    {
     "name": "stdout",
     "output_type": "stream",
     "text": [
      "Charles Dickens died in 1870\n",
      "William Thackeray died in 1863\n",
      "Anthony Trollope died in 1882\n",
      "Gerard Manley Hopkins died in 1889\n"
     ]
    }
   ],
   "source": [
    "authors = {\n",
    "    \"Charles Dickens\": \"1870\",\n",
    "    \"William Thackeray\": \"1863\",\n",
    "    \"Anthony Trollope\": \"1882\",\n",
    "    \"Gerard Manley Hopkins\": \"1889\"\n",
    "}\n",
    "\n",
    "for author, date in authors.items():\n",
    "    print('{} died in {}'.format(author, date))"
   ]
  },
  {
   "cell_type": "markdown",
   "metadata": {},
   "source": [
    "# 7. Debug code\n",
    "```python\n",
    "greeting = input(\"Hello, polite hacker! What's your password to Facebook?)\n",
    "if greeting in [\"password\"):\n",
    "\tprint(\"I will not tell you that my password is {}\". format(password))\n",
    "elif\n",
    "print(\"Ugh, I thought you are hacker!\")\n",
    "```"
   ]
  },
  {
   "cell_type": "code",
   "execution_count": 8,
   "metadata": {},
   "outputs": [
    {
     "name": "stdout",
     "output_type": "stream",
     "text": [
      "Hello, polite hacker! What's your password to Facebook?azerty\n",
      "Ugh, I thought you are hacker!\n"
     ]
    }
   ],
   "source": [
    "password = input(\"Hello, polite hacker! What's your password to Facebook?\")\n",
    "if password in \"password\":\n",
    "    print(\"I don't understand what has to be done in this exercise {}\". format(password))\n",
    "else:\n",
    "    print(\"Ugh, I thought you are hacker!\")"
   ]
  },
  {
   "cell_type": "markdown",
   "metadata": {},
   "source": [
    "# 8. Debug code\n",
    "```python\n",
    "patients = [[70, 1.8], [80, 1.9], [150, 1.7]]\n",
    "\n",
    "def calculate_bmi(weight, height):\n",
    "    return weight / (height ** 2)\n",
    "\n",
    "for patient in patients:\n",
    "    weight, height = patients[0]\n",
    "    bmi = calculate_bmi(height, weight)\n",
    "    print(\"Patient's BMI is: {}\".format(bmi))\n",
    "```"
   ]
  },
  {
   "cell_type": "code",
   "execution_count": 9,
   "metadata": {},
   "outputs": [
    {
     "name": "stdout",
     "output_type": "stream",
     "text": [
      "Patient's BMI is: 21.604938271604937\n",
      "Patient's BMI is: 22.1606648199446\n",
      "Patient's BMI is: 51.90311418685122\n"
     ]
    }
   ],
   "source": [
    "patients = [[70, 1.8], [80, 1.9], [150, 1.7]]\n",
    "\n",
    "def calculate_bmi(weight, height):\n",
    "    return weight / (height ** 2)\n",
    "\n",
    "for patient in patients:\n",
    "    weight, height = patient\n",
    "    bmi = calculate_bmi(weight, height)\n",
    "    print(\"Patient's BMI is: {}\".format(bmi))"
   ]
  },
  {
   "cell_type": "markdown",
   "metadata": {},
   "source": [
    "# 9. Debug code\n",
    "```python\n",
    "numbers = []\n",
    "number = None\n",
    "while number != '3':\n",
    "    number = int(input('Type number:'))\n",
    "    numbers.append(number)\n",
    "```"
   ]
  },
  {
   "cell_type": "code",
   "execution_count": 10,
   "metadata": {},
   "outputs": [
    {
     "name": "stdout",
     "output_type": "stream",
     "text": [
      "Type number:5\n",
      "Type number:6\n",
      "Type number:3\n"
     ]
    }
   ],
   "source": [
    "numbers = []\n",
    "number = None\n",
    "while number != 3:\n",
    "    number = int(input('Type number:'))\n",
    "    numbers.append(number)"
   ]
  },
  {
   "cell_type": "markdown",
   "metadata": {},
   "source": [
    "# 10. Debug code \n",
    "```python\n",
    "exam_one = int(input(\"Input exam grade one: \"))\n",
    "exam_two = input(\"Input exam grade two: \"))\n",
    "exam_3 = str(input(\"Input exam grade three: \"))\n",
    "\n",
    "grades = [exam_one exam_two exam_three]\n",
    "sum = 0\n",
    "for grade in grade:\n",
    "  sum = sum + grade\n",
    "\n",
    "avg = sum / len(grdes)\n",
    "\n",
    "if avg >= 90:\n",
    "    letter_grade = \"A\"\n",
    "elif avg >= 80 and avg < 90\n",
    "    letter_grade = \"B\"\n",
    "elif avg > 69 and avg < 80:\n",
    "    letter_grade = \"C'\n",
    "elif avg <= 69 and avg >= 65:\n",
    "    letter_grade = \"D\"\n",
    "elif:\n",
    "    letter_grade = \"F\"\n",
    "\n",
    "for grade in grades:\n",
    "     print(\"Exam: \" + str(grade))\n",
    "    print(\"Average: \" + str(avg))\n",
    "    print(\"Grade: \" + letter_grade)\n",
    "\n",
    "if letter-grade is \"F\":\n",
    "    print \"Student is failing.\"\n",
    "else:\n",
    "    print \"Student is passing.\"\n",
    "```"
   ]
  },
  {
   "cell_type": "code",
   "execution_count": 11,
   "metadata": {},
   "outputs": [
    {
     "name": "stdout",
     "output_type": "stream",
     "text": [
      "Input exam grade one: 50\n",
      "Input exam grade two: 75\n",
      "Input exam grade three: 100\n",
      "Exam: 50\n",
      "Average: 75.0\n",
      "Grade: C\n",
      "Exam: 75\n",
      "Average: 75.0\n",
      "Grade: C\n",
      "Exam: 100\n",
      "Average: 75.0\n",
      "Grade: C\n",
      "Student is passing.\n"
     ]
    }
   ],
   "source": [
    "exam_one = int(input(\"Input exam grade one: \"))\n",
    "exam_two = int(input(\"Input exam grade two: \"))\n",
    "exam_three = int(input(\"Input exam grade three: \"))\n",
    "\n",
    "grades = [exam_one, exam_two, exam_three]\n",
    "sum = 0\n",
    "for grade in grades:\n",
    "  sum = sum + grade\n",
    "\n",
    "avg = sum / len(grades)\n",
    "\n",
    "if avg >= 90:\n",
    "    letter_grade = 'A'\n",
    "elif avg >= 80 and avg < 90:\n",
    "    letter_grade = 'B'\n",
    "elif avg > 69 and avg < 80:\n",
    "    letter_grade = 'C'\n",
    "elif avg <= 69 and avg >= 65:\n",
    "    letter_grade = 'D'\n",
    "else:\n",
    "    letter_grade = 'F'\n",
    "\n",
    "for grade in grades:\n",
    "    print('Exam: ' + str(grade))\n",
    "    print('Average: ' + str(avg))\n",
    "    print('Grade: ' + letter_grade)\n",
    "\n",
    "if letter_grade == 'F':\n",
    "    print('Student is failing.')\n",
    "else:\n",
    "    print('Student is passing.')"
   ]
  },
  {
   "cell_type": "markdown",
   "metadata": {},
   "source": [
    "# BONUS: what can cause following error?\n",
    "In this exercise you need to write code that **WILL CAUSE** following error\n",
    "```python\n",
    ">>> fruits = dict(apple=5, babanas=12, oranges=7)\n",
    "TypeError: 'dict' object is not callable\n",
    "```"
   ]
  },
  {
   "cell_type": "code",
   "execution_count": 12,
   "metadata": {},
   "outputs": [
    {
     "ename": "TypeError",
     "evalue": "'dict' object is not callable",
     "output_type": "error",
     "traceback": [
      "\u001b[1;31m---------------------------------------------------------------------------\u001b[0m",
      "\u001b[1;31mTypeError\u001b[0m                                 Traceback (most recent call last)",
      "\u001b[1;32m<ipython-input-12-0f4d112f37fa>\u001b[0m in \u001b[0;36m<module>\u001b[1;34m()\u001b[0m\n\u001b[0;32m      1\u001b[0m \u001b[0mfruits\u001b[0m \u001b[1;33m=\u001b[0m \u001b[0mdict\u001b[0m\u001b[1;33m(\u001b[0m\u001b[0mapple\u001b[0m\u001b[1;33m=\u001b[0m\u001b[1;36m5\u001b[0m\u001b[1;33m,\u001b[0m \u001b[0mbabanas\u001b[0m\u001b[1;33m=\u001b[0m\u001b[1;36m12\u001b[0m\u001b[1;33m,\u001b[0m \u001b[0moranges\u001b[0m\u001b[1;33m=\u001b[0m\u001b[1;36m7\u001b[0m\u001b[1;33m)\u001b[0m\u001b[1;33m\u001b[0m\u001b[1;33m\u001b[0m\u001b[0m\n\u001b[1;32m----> 2\u001b[1;33m \u001b[0mfruits\u001b[0m\u001b[1;33m(\u001b[0m\u001b[1;33m)\u001b[0m\u001b[1;33m\u001b[0m\u001b[1;33m\u001b[0m\u001b[0m\n\u001b[0m",
      "\u001b[1;31mTypeError\u001b[0m: 'dict' object is not callable"
     ]
    }
   ],
   "source": [
    "fruits = dict(apple=5, babanas=12, oranges=7)\n",
    "fruits()"
   ]
  },
  {
   "cell_type": "code",
   "execution_count": null,
   "metadata": {},
   "outputs": [],
   "source": []
  }
 ],
 "metadata": {
  "kernelspec": {
   "display_name": "Python 3",
   "language": "python",
   "name": "python3"
  },
  "language_info": {
   "codemirror_mode": {
    "name": "ipython",
    "version": 3
   },
   "file_extension": ".py",
   "mimetype": "text/x-python",
   "name": "python",
   "nbconvert_exporter": "python",
   "pygments_lexer": "ipython3",
   "version": "3.7.4"
  }
 },
 "nbformat": 4,
 "nbformat_minor": 2
}
