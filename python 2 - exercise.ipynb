{
 "cells": [
  {
   "cell_type": "markdown",
   "metadata": {},
   "source": [
    "# W5 - Python conditions and loops assignment"
   ]
  },
  {
   "cell_type": "markdown",
   "metadata": {},
   "source": [
    "# 1. Using for loop, create nested list from dictionary, see example\n",
    "```python\n",
    "fruits = {'banana':3,'apple':2, 'mango':1, 'kiwi':5}\n",
    "fruits_list = [['banana', 'banana', 'banana'], ['apple', 'apple'], ['mango'], ['kiwi', 'kiwi', 'kiwi', 'kiwi', 'kiwi']]\n",
    "```"
   ]
  },
  {
   "cell_type": "code",
   "execution_count": 1,
   "metadata": {},
   "outputs": [
    {
     "name": "stdout",
     "output_type": "stream",
     "text": [
      "[['banana', 'banana', 'banana'], ['apple', 'apple'], ['mango'], ['kiwi', 'kiwi', 'kiwi', 'kiwi', 'kiwi']]\n"
     ]
    }
   ],
   "source": [
    "fruits = {'banana':3,'apple':2, 'mango':1, 'kiwi':5}\n",
    "\n",
    "fruits_list = [[key]*value for key, value in fruits.items()]\n",
    "print(fruits_list)"
   ]
  },
  {
   "cell_type": "markdown",
   "metadata": {},
   "source": [
    "# 2. Select the shortest element from the list\n",
    "```python\n",
    "fruits = ['banana','apple', 'mango', 'kiwi']\n",
    "shortest_fruit = 'kiwi'\n",
    "```"
   ]
  },
  {
   "cell_type": "code",
   "execution_count": 2,
   "metadata": {},
   "outputs": [
    {
     "name": "stdout",
     "output_type": "stream",
     "text": [
      "kiwi\n"
     ]
    }
   ],
   "source": [
    "fruits = ['banana','apple', 'mango', 'kiwi']\n",
    "\n",
    "shortest_length = len(fruits[0])\n",
    "shortest_fruit = fruits[0]\n",
    "for fruit in fruits:\n",
    "    if len(fruit) < shortest_length:\n",
    "        shortest_length = len(fruit)\n",
    "        shortest_fruit = fruit\n",
    "\n",
    "print(shortest_fruit)"
   ]
  },
  {
   "cell_type": "markdown",
   "metadata": {},
   "source": [
    "# 3. Using loops and conditions, count occurrence of numbers, letters and other symbols in the string\n",
    "Example\n",
    "```python\n",
    "'''What a to do to die today at a 1/4 or 2 to 2. \n",
    "A terrible difficult thing to say but a harder thing still to do. \n",
    "The dragon will come at the beat of the drum with a rat-tat-tat-tat-tat-tattoo \n",
    "at a 1/4 or 2 to 2 today, at a 1/4 or 2 to 2.'''\n",
    "Number occurence: 12\n",
    "Letter occurence: 158\n",
    "Other symbols: 66\n",
    "```"
   ]
  },
  {
   "cell_type": "code",
   "execution_count": 4,
   "metadata": {},
   "outputs": [
    {
     "name": "stdout",
     "output_type": "stream",
     "text": [
      "Number occurence: 12\n",
      "Letter occurence: 158\n",
      "Other sysmbols: 69\n"
     ]
    }
   ],
   "source": [
    "example_text = '''What a to do to die today at a 1/4 or 2 to 2. \n",
    "A terrible difficult thing to say but a harder thing still to do. \n",
    "The dragon will come at the beat of the drum with a rat-tat-tat-tat-tat-tattoo \n",
    "at a 1/4 or 2 to 2 today, at a 1/4 or 2 to 2.'''.lower()\n",
    "\n",
    "set_numbers = {\"0\",\"1\",\"2\",\"3\",\"4\",\"5\",\"6\",\"7\",\"8\",\"9\"}\n",
    "set_letters = {\"a\",\"b\",\"c\",\"d\",\"e\",\"f\",\"g\",\"h\",\"i\",\"j\",\"k\",\"l\",\"m\",\"n\",\"o\",\"p\",\"q\",\"r\",\"s\",\"t\",\"u\",\"v\",\"w\",\"x\",\"y\",\"z\"}\n",
    "amount_numbers = 0\n",
    "amount_letters= 0\n",
    "amount_other_symbols = 0\n",
    "for character in example_text:\n",
    "    if character in set_numbers:\n",
    "        amount_numbers += 1\n",
    "    elif character in set_letters:\n",
    "        amount_letters += 1\n",
    "    else:\n",
    "        amount_other_symbols += 1\n",
    "print(\"Number occurence: {0}\\nLetter occurence: {1}\\nOther sysmbols: {2}\".format(amount_numbers, amount_letters, amount_other_symbols))"
   ]
  },
  {
   "cell_type": "markdown",
   "metadata": {},
   "source": [
    "# 4. Calculate dog's age in human years\n",
    "using this article: [https://pets.webmd.com/dogs/how-to-calculate-your-dogs-age](https://pets.webmd.com/dogs/how-to-calculate-your-dogs-age)\n",
    "\n",
    "*Note: for simplicity, use values for medium dogs*"
   ]
  },
  {
   "cell_type": "code",
   "execution_count": 5,
   "metadata": {},
   "outputs": [
    {
     "name": "stdout",
     "output_type": "stream",
     "text": [
      "74\n"
     ]
    }
   ],
   "source": [
    "dog_age_converter = {1:15,2:24,3:28,4:32,5:36,6:42,7:47,8:51,9:56,10:60,11:65,12:69,13:74,14:78,15:83,16:87}\n",
    "\n",
    "def dog_human_age(dog_age):\n",
    "    return dog_age_converter[dog_age]\n",
    "\n",
    "print(dog_human_age(13))"
   ]
  },
  {
   "cell_type": "markdown",
   "metadata": {},
   "source": [
    "# 5. Count the number of even and odd numbers from a series of numbers.\n",
    "```python\n",
    "seq = [1,44,30,15,2,18]\n",
    "```\n",
    "Odd numbers: 2\n",
    "Even numbers: 4"
   ]
  },
  {
   "cell_type": "code",
   "execution_count": 6,
   "metadata": {},
   "outputs": [
    {
     "name": "stdout",
     "output_type": "stream",
     "text": [
      "Odd numbers: 2 Even numbers: 4\n"
     ]
    }
   ],
   "source": [
    "seq = [1,44,30,15,2,18]\n",
    "list_even_numbers = [number for number in seq if number%2 == 0]\n",
    "list_odd_numbers = [number for number in seq if number%2 > 0]\n",
    "print(\"Odd numbers: \" + str(len(list_odd_numbers)) + \" Even numbers: \" + str(len(list_even_numbers)))\n"
   ]
  },
  {
   "cell_type": "markdown",
   "metadata": {},
   "source": [
    "# 6. Using loops, print following pattern\n",
    "```\n",
    "*\n",
    "**\n",
    "***\n",
    "****\n",
    "```"
   ]
  },
  {
   "cell_type": "code",
   "execution_count": 7,
   "metadata": {},
   "outputs": [
    {
     "name": "stdout",
     "output_type": "stream",
     "text": [
      "*\n",
      "**\n",
      "***\n",
      "****\n"
     ]
    }
   ],
   "source": [
    "for i in list(range(4)):\n",
    "    print(\"*\" + \"*\"*i)"
   ]
  },
  {
   "cell_type": "markdown",
   "metadata": {},
   "source": [
    "# 7. Using list comprehensions, transform all vowels within the string to upper case\n",
    "\n",
    "example `python -> pYthOn`"
   ]
  },
  {
   "cell_type": "code",
   "execution_count": 8,
   "metadata": {},
   "outputs": [
    {
     "name": "stdout",
     "output_type": "stream",
     "text": [
      "HEllO thErE, whY dO YOU trAnsfOrm mE?\n"
     ]
    }
   ],
   "source": [
    "list_of_vowels = [\"a\",\"e\",\"o\",\"u\",\"i\",\"y\"]\n",
    "def capitalize_vowel(letter):\n",
    "    if len(letter) == 1:\n",
    "        if letter in list_of_vowels:\n",
    "            return letter.capitalize()\n",
    "        else:\n",
    "            return letter \n",
    "def transform_string(string):\n",
    "    transformed_list = [capitalize_vowel(string_letter) for string_letter in string]\n",
    "    return \"\".join(transformed_list)\n",
    "\n",
    "print(transform_string(\"Hello there, why do you transform me?\"))"
   ]
  },
  {
   "cell_type": "markdown",
   "metadata": {},
   "source": [
    "# 8. Print position number of the letter\n",
    "1. Ask user to type letter (just one)\n",
    "2. Print position of the letter in the alphabet\n",
    "\n",
    "Example\n",
    "```\n",
    "Type letter: B\n",
    "Letter B position is 2.\n",
    "```"
   ]
  },
  {
   "cell_type": "code",
   "execution_count": 11,
   "metadata": {},
   "outputs": [
    {
     "name": "stdout",
     "output_type": "stream",
     "text": [
      "Please give me a letter (just one!): d\n",
      "4\n"
     ]
    }
   ],
   "source": [
    "list_alphabet = [\"a\",\"b\",\"c\",\"d\",\"e\",\"f\",\"g\",\"h\",\"i\",\"j\",\"k\",\"l\",\"m\",\"n\",\"o\",\"p\",\"q\",\"r\",\"s\",\"t\",\"u\",\"v\",\"w\",\"x\",\"y\",\"z\"]\n",
    "user_letter = input(\"Please give me a letter (just one!): \")\n",
    "print(list_alphabet.index(user_letter) + 1)"
   ]
  },
  {
   "cell_type": "markdown",
   "metadata": {},
   "source": [
    "# 9. Find the median of three values (do not use median function)\n",
    "Ask user to input 3 values\n",
    "Example\n",
    "```\n",
    "Type number:5\n",
    "Type number:12\n",
    "Type number:6\n",
    "\n",
    "Median value is 5.\n",
    "```\n"
   ]
  },
  {
   "cell_type": "code",
   "execution_count": 12,
   "metadata": {},
   "outputs": [
    {
     "name": "stdout",
     "output_type": "stream",
     "text": [
      "Please give me a number: 45\n",
      "Please give me a another number: 30\n",
      "Please give me yet another number, last one, I promise: 46\n",
      "[30, 45, 46]\n",
      "45\n"
     ]
    }
   ],
   "source": [
    "user_value_1 = int(input(\"Please give me a number: \"))\n",
    "user_value_2 = int(input(\"Please give me a another number: \"))\n",
    "user_value_3 = int(input(\"Please give me yet another number, last one, I promise: \"))\n",
    "list_user_numbers = [user_value_1, user_value_2, user_value_3]\n",
    "list_user_numbers.sort()\n",
    "print(list_user_numbers)\n",
    "print(list_user_numbers[1])"
   ]
  },
  {
   "cell_type": "markdown",
   "metadata": {},
   "source": [
    "# 10. Using `break` and `continue` statements, print numbers\n",
    "1. Ask user for their favourite number \n",
    "    1. If user chose number 13, ask user for another number\n",
    "    1. Else print numbers from 0 to favourite number, but do not print number 13\n",
    "    1. Finish printing after user's favourite number"
   ]
  },
  {
   "cell_type": "code",
   "execution_count": 13,
   "metadata": {},
   "outputs": [
    {
     "name": "stdout",
     "output_type": "stream",
     "text": [
      "What is your favourite number? 7\n",
      "[0, 1, 2, 3, 4, 5, 6, 7]\n"
     ]
    }
   ],
   "source": [
    "user_favourite_number = int(input(\"What is your favourite number? \"))\n",
    "number_printed = 0\n",
    "while number_printed == False:\n",
    "    if user_favourite_number == 13:\n",
    "        user_favourite_number = int(input(\"Please give me another number... \"))\n",
    "    else:\n",
    "        list_to_print_including_13 = list(range(user_favourite_number + 1))\n",
    "        list_to_print_excluding_13 = [number for number in list_to_print_including_13 if number != 13]\n",
    "        number_printed = True\n",
    "        print(list_to_print_excluding_13)"
   ]
  },
  {
   "cell_type": "markdown",
   "metadata": {},
   "source": [
    "# BONUS: Using nested loops, print first letter of your name:\n",
    "\n",
    "```\n",
    "  ***                                                                   \n",
    " *   *                                                                  \n",
    " *   *                                                                  \n",
    " *****                                                                  \n",
    " *   *                                                                  \n",
    " *   *                                                                  \n",
    " *   *\n",
    "```"
   ]
  },
  {
   "cell_type": "code",
   "execution_count": 14,
   "metadata": {},
   "outputs": [
    {
     "name": "stdout",
     "output_type": "stream",
     "text": [
      "***\n",
      "*  *\n",
      "*  *\n",
      "***\n",
      "*  *\n",
      "*   *\n",
      "*   *\n",
      "*   *\n",
      "**** \n"
     ]
    }
   ],
   "source": [
    "letter_b_dictionairy = {0:[1,1,1],1:[1,0,0,1],2:[1,0,0,1],3:[1,1,1],4:[1,0,0,1],5:[1,0,0,0,1],6:[1,0,0,0,1],7:[1,0,0,0,1],8:[1,1,1,1,0]}\n",
    "for i in list(range(9)):\n",
    "    for element in letter_b_dictionairy[i]:\n",
    "        if element == 1:\n",
    "            print(\"*\", end = '')\n",
    "        else:\n",
    "            print(\" \", end = '')\n",
    "    print(\"\")"
   ]
  },
  {
   "cell_type": "code",
   "execution_count": null,
   "metadata": {},
   "outputs": [],
   "source": []
  }
 ],
 "metadata": {
  "kernelspec": {
   "display_name": "Python 3",
   "language": "python",
   "name": "python3"
  },
  "language_info": {
   "codemirror_mode": {
    "name": "ipython",
    "version": 3
   },
   "file_extension": ".py",
   "mimetype": "text/x-python",
   "name": "python",
   "nbconvert_exporter": "python",
   "pygments_lexer": "ipython3",
   "version": "3.7.4"
  }
 },
 "nbformat": 4,
 "nbformat_minor": 2
}
