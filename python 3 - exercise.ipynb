{
 "cells": [
  {
   "cell_type": "markdown",
   "metadata": {},
   "source": [
    "# W6 - Python functions assignment"
   ]
  },
  {
   "cell_type": "markdown",
   "metadata": {},
   "source": [
    "# 1. You are investigating set of suspicious emails\n",
    "You read article that clients with numbers in email addresses are more likely to commit fraud.\n",
    "Create function that will take as parameters list of emails and searched symbol and will return ratio of emails containing given symbol.\n",
    "\n",
    "Example\n",
    "```python\n",
    "emails = [\n",
    "    'james1@example.com', 'januline12@januline.com', 'fillip.morris@pm.com', 'ray@bradbury.org', 'me+you@hotmail.com', 'seven11@gmail.com', 'noreply@msd.com', 'cars4u@tesla.com' \n",
    "]\n",
    ">>> find_symbol_emails(emails, '1')\n",
    "0.375\n",
    "```"
   ]
  },
  {
   "cell_type": "code",
   "execution_count": 2,
   "metadata": {},
   "outputs": [
    {
     "name": "stdout",
     "output_type": "stream",
     "text": [
      "0.375\n"
     ]
    }
   ],
   "source": [
    "def return_email_ratio(list_emails, symbol):\n",
    "    list_emails_name_only = []\n",
    "    for email in list_emails:\n",
    "        email_name_only = []\n",
    "        for char in email:\n",
    "            if char == '@':\n",
    "                break\n",
    "            else:\n",
    "                email_name_only.append(char)\n",
    "        email_name_only_string = ''.join(email_name_only)\n",
    "        list_emails_name_only.append(email_name_only_string)\n",
    "    list_emails_symbol = [email for email in list_emails_name_only if symbol in email]\n",
    "    return len(list_emails_symbol) / len(list_emails_name_only)\n",
    "\n",
    "emails_example = [\n",
    "    'james1@example.com', 'januline12@januline.com', 'fillip.morris@pm.com', 'ray@bradbury.org', 'me+you@hotmail.com', 'seven11@gmail.com', 'noreply@msd.com', 'cars4u@tesla.com' \n",
    "]\n",
    "\n",
    "print(return_email_ratio(emails_example,'1'))"
   ]
  },
  {
   "cell_type": "markdown",
   "metadata": {},
   "source": [
    "# 2. Using function from the previous exercise\n",
    "Create another function that will have as an input list of emails and list of symbols and will return dictionary with symbol occurrence in email list.\n",
    "\n",
    "Example\n",
    "```python\n",
    ">>> find_symbol_list_emails(emails, ['1', '2', '+', '.'])\n",
    "{'1' : 0.375, '2' : 0.125, '+' : 0.125, '.' : 0}\n",
    "```"
   ]
  },
  {
   "cell_type": "code",
   "execution_count": 3,
   "metadata": {},
   "outputs": [
    {
     "name": "stdout",
     "output_type": "stream",
     "text": [
      "{'1': 0.375, '2': 0.125, '+': 0.125, '.': 0.125}\n"
     ]
    }
   ],
   "source": [
    "def symbol_occurence(list_emails, list_symbols):\n",
    "    dict_occurence = {symbol : return_email_ratio(list_emails, symbol) for symbol in list_symbols}\n",
    "    return dict_occurence\n",
    "\n",
    "symbols_example = ['1', '2', '+', '.']\n",
    "\n",
    "print(symbol_occurence(emails_example, symbols_example))"
   ]
  },
  {
   "cell_type": "markdown",
   "metadata": {},
   "source": [
    "# 3. Write function to multiply all the numbers in a list\n",
    "e.g.\n",
    "```python\n",
    ">>> multiply([1,7,3], 3)\n",
    "[3, 21, 9]\n",
    "```"
   ]
  },
  {
   "cell_type": "code",
   "execution_count": 4,
   "metadata": {},
   "outputs": [
    {
     "name": "stdout",
     "output_type": "stream",
     "text": [
      "[3, 21, 9]\n"
     ]
    }
   ],
   "source": [
    "list_example = [1,7,3]\n",
    "\n",
    "def get_list_of_products(list,factor):\n",
    "    list_of_products = [number * factor for number in list]\n",
    "    return list_of_products\n",
    "\n",
    "print(get_list_of_products(list_example, 3))"
   ]
  },
  {
   "cell_type": "markdown",
   "metadata": {},
   "source": [
    "# 4. Write function that takes integer (x) and returns 3 values (x^2, x^3, x^4)\n",
    "\n",
    "e.g.\n",
    "```python\n",
    ">>>compute_num(2)\n",
    "4, 8, 16\n",
    "```"
   ]
  },
  {
   "cell_type": "code",
   "execution_count": 5,
   "metadata": {},
   "outputs": [
    {
     "name": "stdout",
     "output_type": "stream",
     "text": [
      "(4, 8, 16)\n"
     ]
    }
   ],
   "source": [
    "def calculate_3_values(integer):\n",
    "    return integer**2, integer**3, integer**4\n",
    "\n",
    "print(calculate_3_values(2))"
   ]
  },
  {
   "cell_type": "markdown",
   "metadata": {},
   "source": [
    "# 5. Create function to transform Fahrenheit degrees to Celsius\n",
    "e.g.\n",
    "\n",
    "```python\n",
    ">>> fahrenheit_to_celsius(212)\n",
    "100.0\n",
    ">>> fahrenheit_to_celsius(0)\n",
    "-17.7777778\n",
    "```"
   ]
  },
  {
   "cell_type": "code",
   "execution_count": 6,
   "metadata": {},
   "outputs": [
    {
     "name": "stdout",
     "output_type": "stream",
     "text": [
      "100.0\n",
      "-17.77777777777778\n"
     ]
    }
   ],
   "source": [
    "def fahrenheit_to_celsius(fahrenheit):\n",
    "    celsius = (fahrenheit - 32) * (5 / 9)\n",
    "    return celsius\n",
    "\n",
    "print(fahrenheit_to_celsius(212))\n",
    "print(fahrenheit_to_celsius(0))"
   ]
  },
  {
   "cell_type": "markdown",
   "metadata": {},
   "source": [
    "# 6. Write function that accepts a single digit (n) and computes the value of nnn-nn-n\n",
    "\n",
    "```python\n",
    ">>> 111 - 11 - 1\n",
    "99\n",
    ">>> exercise_6(1)\n",
    "99\n",
    "```"
   ]
  },
  {
   "cell_type": "code",
   "execution_count": 13,
   "metadata": {},
   "outputs": [
    {
     "name": "stdout",
     "output_type": "stream",
     "text": [
      "99\n"
     ]
    }
   ],
   "source": [
    "def exercise_6(n):\n",
    "   string_1 = '{0}{1}{2}'.format(n,n,n)\n",
    "   string_2 = '{0}{1}'.format(n,n)\n",
    "   nbr_1 = int(string_1)\n",
    "   nbr_2 = int(string_2)\n",
    "   calculate_value = nbr_1 - nbr_2 - n\n",
    "   return calculate_value\n",
    "\n",
    "print(exercise_6(1))"
   ]
  },
  {
   "cell_type": "markdown",
   "metadata": {},
   "source": [
    "# 7. Lucky ticket\n",
    "Create function that\n",
    "1. Asks user to input 6-digit number\n",
    "2. Checks if input contains only numbers and has 6 numbers\n",
    "    - If no, ask user to type again\n",
    "3. Computes whether sum of first 3 digits equals to sum of last 3 digits\n",
    "    - If yes, prints congratulation\n",
    "\n",
    "Example\n",
    "```python\n",
    ">>> lucky_ticket()\n",
    "type 6-digit ticket number: 332440\n",
    "You are lucky person!\n",
    "```"
   ]
  },
  {
   "cell_type": "code",
   "execution_count": 9,
   "metadata": {},
   "outputs": [
    {
     "name": "stdout",
     "output_type": "stream",
     "text": [
      "Please enter 6-digit number123600\n",
      "You are awesome!\n"
     ]
    }
   ],
   "source": [
    "def lucky_ticket():\n",
    "    input_nbr = 'tbi'\n",
    "    while not (input_nbr.isnumeric() and len(input_nbr) == 6):\n",
    "        input_nbr = input(\"Please enter 6-digit number\")\n",
    "    sum_first_3 = int(input_nbr[0]) + int(input_nbr[1]) + int(input_nbr[2])\n",
    "    sum_last_3 = int(input_nbr[3]) + int(input_nbr[4]) + int(input_nbr[5])\n",
    "    if sum_first_3 == sum_last_3:\n",
    "        print('You are awesome!')\n",
    "\n",
    "lucky_ticket()"
   ]
  },
  {
   "cell_type": "markdown",
   "metadata": {},
   "source": [
    "# 8. Get first and last elements\n",
    "Create a function that takes a list of numbers and makes a new list of only the first and last elements of the given list. \n",
    "\n",
    "e.g.\n",
    "```python\n",
    ">>> first_last([5, 10, 15, 20, 25])\n",
    "[5,25]\n",
    ">>> first_last([5])\n",
    "[5]\n",
    ">>> first_last([])\n",
    "[]\n",
    "```"
   ]
  },
  {
   "cell_type": "code",
   "execution_count": 14,
   "metadata": {},
   "outputs": [
    {
     "name": "stdout",
     "output_type": "stream",
     "text": [
      "[5, 25]\n"
     ]
    }
   ],
   "source": [
    "ex_8_list = [5, 10, 15, 20, 25]\n",
    "def get_first_last(list):\n",
    "    result_list = [number for index, number in enumerate(list) if index == 0 or index == len(list) - 1]\n",
    "    return result_list\n",
    "\n",
    "print(get_first_last(ex_8_list))"
   ]
  },
  {
   "cell_type": "markdown",
   "metadata": {},
   "source": [
    "# 9. Create function to make all letters in string upper case and decorate the text with stars\n",
    "e.g.\n",
    "```python\n",
    ">>> make_fancy_string('hello')\n",
    "***HELLO***\n",
    "```"
   ]
  },
  {
   "cell_type": "code",
   "execution_count": 15,
   "metadata": {},
   "outputs": [
    {
     "name": "stdout",
     "output_type": "stream",
     "text": [
      "***I DON'T LIKE STARS AROUND ME***\n"
     ]
    }
   ],
   "source": [
    "def make_fanciest_string_ever(text):\n",
    "    list_uppercase_letters = [letter.upper() for letter in text]\n",
    "    string_uppercase_letters = ''.join(list_uppercase_letters)\n",
    "    print('***'+string_uppercase_letters+'***')\n",
    "\n",
    "make_fanciest_string_ever('I don\\'t like stars around me')"
   ]
  },
  {
   "cell_type": "markdown",
   "metadata": {},
   "source": [
    "# 10. Write function to check whether string is palindrome\n",
    "e.g.\n",
    "```python\n",
    ">>>check_palindrome('ABBA')\n",
    "True\n",
    "```"
   ]
  },
  {
   "cell_type": "code",
   "execution_count": 16,
   "metadata": {},
   "outputs": [
    {
     "name": "stdout",
     "output_type": "stream",
     "text": [
      "True\n"
     ]
    }
   ],
   "source": [
    "def check_palindrome(string):\n",
    "    reverse_string = string[::-1]\n",
    "    print(string.lower() == reverse_string.lower())\n",
    "\n",
    "check_palindrome(\"Nedertreden\")"
   ]
  },
  {
   "cell_type": "markdown",
   "metadata": {},
   "source": [
    "# BONUS: create function that has as an input 3 letters and returns all permutations of letters\n",
    "e.g.\n",
    "```python\n",
    ">>> permutations('abc')\n",
    "abc\n",
    "acb\n",
    "bac\n",
    "bca\n",
    "cab\n",
    "cba\n",
    "```"
   ]
  },
  {
   "cell_type": "code",
   "execution_count": 17,
   "metadata": {},
   "outputs": [
    {
     "name": "stdout",
     "output_type": "stream",
     "text": [
      "abc\n",
      "acb\n",
      "bac\n",
      "bca\n",
      "cab\n",
      "cba\n",
      "\n"
     ]
    }
   ],
   "source": [
    "def return_permutations(string):\n",
    "    print('{0}{1}{2}\\n{0}{2}{1}\\n{1}{0}{2}\\n{1}{2}{0}\\n{2}{0}{1}\\n{2}{1}{0}\\n'.format(string[0],string[1], string[2]))\n",
    "\n",
    "return_permutations('abc')"
   ]
  },
  {
   "cell_type": "code",
   "execution_count": null,
   "metadata": {},
   "outputs": [],
   "source": []
  }
 ],
 "metadata": {
  "kernelspec": {
   "display_name": "Python 3",
   "language": "python",
   "name": "python3"
  },
  "language_info": {
   "codemirror_mode": {
    "name": "ipython",
    "version": 3
   },
   "file_extension": ".py",
   "mimetype": "text/x-python",
   "name": "python",
   "nbconvert_exporter": "python",
   "pygments_lexer": "ipython3",
   "version": "3.7.4"
  }
 },
 "nbformat": 4,
 "nbformat_minor": 2
}
